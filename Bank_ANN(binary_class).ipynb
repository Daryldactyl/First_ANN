{
  "nbformat": 4,
  "nbformat_minor": 0,
  "metadata": {
    "colab": {
      "provenance": [],
      "toc_visible": true,
      "include_colab_link": true
    },
    "kernelspec": {
      "name": "python3",
      "display_name": "Python 3"
    }
  },
  "cells": [
    {
      "cell_type": "markdown",
      "metadata": {
        "id": "view-in-github",
        "colab_type": "text"
      },
      "source": [
        "<a href=\"https://colab.research.google.com/github/Daryldactyl/First_ANN/blob/main/Bank_ANN(binary_class).ipynb\" target=\"_parent\"><img src=\"https://colab.research.google.com/assets/colab-badge.svg\" alt=\"Open In Colab\"/></a>"
      ]
    },
    {
      "cell_type": "markdown",
      "metadata": {
        "id": "lP6JLo1tGNBg"
      },
      "source": [
        "# Artificial Neural Network"
      ]
    },
    {
      "cell_type": "markdown",
      "metadata": {
        "id": "gWZyYmS_UE_L"
      },
      "source": [
        "### Importing the libraries"
      ]
    },
    {
      "cell_type": "code",
      "source": [
        "import numpy as np\n",
        "import pandas as pd\n",
        "import matplotlib.pyplot as plt\n",
        "import tensorflow as tf"
      ],
      "metadata": {
        "id": "wBLEVbasRPI8"
      },
      "execution_count": 1,
      "outputs": []
    },
    {
      "cell_type": "code",
      "source": [
        "#What version tensorflow are we using?\n",
        "tf.__version__"
      ],
      "metadata": {
        "colab": {
          "base_uri": "https://localhost:8080/",
          "height": 35
        },
        "id": "jyai0HIYCvkg",
        "outputId": "4b51df98-0c49-49cf-a588-755307da7e5e"
      },
      "execution_count": 2,
      "outputs": [
        {
          "output_type": "execute_result",
          "data": {
            "text/plain": [
              "'2.15.0'"
            ],
            "application/vnd.google.colaboratory.intrinsic+json": {
              "type": "string"
            }
          },
          "metadata": {},
          "execution_count": 2
        }
      ]
    },
    {
      "cell_type": "markdown",
      "metadata": {
        "id": "1E0Q3aoKUCRX"
      },
      "source": [
        "## Part 1 - Data Preprocessing"
      ]
    },
    {
      "cell_type": "markdown",
      "metadata": {
        "id": "cKWAkFVGUU0Z"
      },
      "source": [
        "### Importing the dataset"
      ]
    },
    {
      "cell_type": "code",
      "source": [
        "df = pd.read_csv(\"https://raw.githubusercontent.com/Daryldactyl/First_ANN/Files/Churn_Modelling.csv\")\n",
        "df.head()"
      ],
      "metadata": {
        "colab": {
          "base_uri": "https://localhost:8080/",
          "height": 206
        },
        "id": "pdoDZAL9RToA",
        "outputId": "c7f8e15f-4390-4650-c969-8a554de47f42"
      },
      "execution_count": 7,
      "outputs": [
        {
          "output_type": "execute_result",
          "data": {
            "text/plain": [
              "   RowNumber  CustomerId   Surname  CreditScore Geography  Gender  Age  \\\n",
              "0          1    15634602  Hargrave          619    France  Female   42   \n",
              "1          2    15647311      Hill          608     Spain  Female   41   \n",
              "2          3    15619304      Onio          502    France  Female   42   \n",
              "3          4    15701354      Boni          699    France  Female   39   \n",
              "4          5    15737888  Mitchell          850     Spain  Female   43   \n",
              "\n",
              "   Tenure    Balance  NumOfProducts  HasCrCard  IsActiveMember  \\\n",
              "0       2       0.00              1          1               1   \n",
              "1       1   83807.86              1          0               1   \n",
              "2       8  159660.80              3          1               0   \n",
              "3       1       0.00              2          0               0   \n",
              "4       2  125510.82              1          1               1   \n",
              "\n",
              "   EstimatedSalary  Exited  \n",
              "0        101348.88       1  \n",
              "1        112542.58       0  \n",
              "2        113931.57       1  \n",
              "3         93826.63       0  \n",
              "4         79084.10       0  "
            ],
            "text/html": [
              "\n",
              "  <div id=\"df-d26407ac-a059-4954-9402-5747a0f5ef9b\" class=\"colab-df-container\">\n",
              "    <div>\n",
              "<style scoped>\n",
              "    .dataframe tbody tr th:only-of-type {\n",
              "        vertical-align: middle;\n",
              "    }\n",
              "\n",
              "    .dataframe tbody tr th {\n",
              "        vertical-align: top;\n",
              "    }\n",
              "\n",
              "    .dataframe thead th {\n",
              "        text-align: right;\n",
              "    }\n",
              "</style>\n",
              "<table border=\"1\" class=\"dataframe\">\n",
              "  <thead>\n",
              "    <tr style=\"text-align: right;\">\n",
              "      <th></th>\n",
              "      <th>RowNumber</th>\n",
              "      <th>CustomerId</th>\n",
              "      <th>Surname</th>\n",
              "      <th>CreditScore</th>\n",
              "      <th>Geography</th>\n",
              "      <th>Gender</th>\n",
              "      <th>Age</th>\n",
              "      <th>Tenure</th>\n",
              "      <th>Balance</th>\n",
              "      <th>NumOfProducts</th>\n",
              "      <th>HasCrCard</th>\n",
              "      <th>IsActiveMember</th>\n",
              "      <th>EstimatedSalary</th>\n",
              "      <th>Exited</th>\n",
              "    </tr>\n",
              "  </thead>\n",
              "  <tbody>\n",
              "    <tr>\n",
              "      <th>0</th>\n",
              "      <td>1</td>\n",
              "      <td>15634602</td>\n",
              "      <td>Hargrave</td>\n",
              "      <td>619</td>\n",
              "      <td>France</td>\n",
              "      <td>Female</td>\n",
              "      <td>42</td>\n",
              "      <td>2</td>\n",
              "      <td>0.00</td>\n",
              "      <td>1</td>\n",
              "      <td>1</td>\n",
              "      <td>1</td>\n",
              "      <td>101348.88</td>\n",
              "      <td>1</td>\n",
              "    </tr>\n",
              "    <tr>\n",
              "      <th>1</th>\n",
              "      <td>2</td>\n",
              "      <td>15647311</td>\n",
              "      <td>Hill</td>\n",
              "      <td>608</td>\n",
              "      <td>Spain</td>\n",
              "      <td>Female</td>\n",
              "      <td>41</td>\n",
              "      <td>1</td>\n",
              "      <td>83807.86</td>\n",
              "      <td>1</td>\n",
              "      <td>0</td>\n",
              "      <td>1</td>\n",
              "      <td>112542.58</td>\n",
              "      <td>0</td>\n",
              "    </tr>\n",
              "    <tr>\n",
              "      <th>2</th>\n",
              "      <td>3</td>\n",
              "      <td>15619304</td>\n",
              "      <td>Onio</td>\n",
              "      <td>502</td>\n",
              "      <td>France</td>\n",
              "      <td>Female</td>\n",
              "      <td>42</td>\n",
              "      <td>8</td>\n",
              "      <td>159660.80</td>\n",
              "      <td>3</td>\n",
              "      <td>1</td>\n",
              "      <td>0</td>\n",
              "      <td>113931.57</td>\n",
              "      <td>1</td>\n",
              "    </tr>\n",
              "    <tr>\n",
              "      <th>3</th>\n",
              "      <td>4</td>\n",
              "      <td>15701354</td>\n",
              "      <td>Boni</td>\n",
              "      <td>699</td>\n",
              "      <td>France</td>\n",
              "      <td>Female</td>\n",
              "      <td>39</td>\n",
              "      <td>1</td>\n",
              "      <td>0.00</td>\n",
              "      <td>2</td>\n",
              "      <td>0</td>\n",
              "      <td>0</td>\n",
              "      <td>93826.63</td>\n",
              "      <td>0</td>\n",
              "    </tr>\n",
              "    <tr>\n",
              "      <th>4</th>\n",
              "      <td>5</td>\n",
              "      <td>15737888</td>\n",
              "      <td>Mitchell</td>\n",
              "      <td>850</td>\n",
              "      <td>Spain</td>\n",
              "      <td>Female</td>\n",
              "      <td>43</td>\n",
              "      <td>2</td>\n",
              "      <td>125510.82</td>\n",
              "      <td>1</td>\n",
              "      <td>1</td>\n",
              "      <td>1</td>\n",
              "      <td>79084.10</td>\n",
              "      <td>0</td>\n",
              "    </tr>\n",
              "  </tbody>\n",
              "</table>\n",
              "</div>\n",
              "    <div class=\"colab-df-buttons\">\n",
              "\n",
              "  <div class=\"colab-df-container\">\n",
              "    <button class=\"colab-df-convert\" onclick=\"convertToInteractive('df-d26407ac-a059-4954-9402-5747a0f5ef9b')\"\n",
              "            title=\"Convert this dataframe to an interactive table.\"\n",
              "            style=\"display:none;\">\n",
              "\n",
              "  <svg xmlns=\"http://www.w3.org/2000/svg\" height=\"24px\" viewBox=\"0 -960 960 960\">\n",
              "    <path d=\"M120-120v-720h720v720H120Zm60-500h600v-160H180v160Zm220 220h160v-160H400v160Zm0 220h160v-160H400v160ZM180-400h160v-160H180v160Zm440 0h160v-160H620v160ZM180-180h160v-160H180v160Zm440 0h160v-160H620v160Z\"/>\n",
              "  </svg>\n",
              "    </button>\n",
              "\n",
              "  <style>\n",
              "    .colab-df-container {\n",
              "      display:flex;\n",
              "      gap: 12px;\n",
              "    }\n",
              "\n",
              "    .colab-df-convert {\n",
              "      background-color: #E8F0FE;\n",
              "      border: none;\n",
              "      border-radius: 50%;\n",
              "      cursor: pointer;\n",
              "      display: none;\n",
              "      fill: #1967D2;\n",
              "      height: 32px;\n",
              "      padding: 0 0 0 0;\n",
              "      width: 32px;\n",
              "    }\n",
              "\n",
              "    .colab-df-convert:hover {\n",
              "      background-color: #E2EBFA;\n",
              "      box-shadow: 0px 1px 2px rgba(60, 64, 67, 0.3), 0px 1px 3px 1px rgba(60, 64, 67, 0.15);\n",
              "      fill: #174EA6;\n",
              "    }\n",
              "\n",
              "    .colab-df-buttons div {\n",
              "      margin-bottom: 4px;\n",
              "    }\n",
              "\n",
              "    [theme=dark] .colab-df-convert {\n",
              "      background-color: #3B4455;\n",
              "      fill: #D2E3FC;\n",
              "    }\n",
              "\n",
              "    [theme=dark] .colab-df-convert:hover {\n",
              "      background-color: #434B5C;\n",
              "      box-shadow: 0px 1px 3px 1px rgba(0, 0, 0, 0.15);\n",
              "      filter: drop-shadow(0px 1px 2px rgba(0, 0, 0, 0.3));\n",
              "      fill: #FFFFFF;\n",
              "    }\n",
              "  </style>\n",
              "\n",
              "    <script>\n",
              "      const buttonEl =\n",
              "        document.querySelector('#df-d26407ac-a059-4954-9402-5747a0f5ef9b button.colab-df-convert');\n",
              "      buttonEl.style.display =\n",
              "        google.colab.kernel.accessAllowed ? 'block' : 'none';\n",
              "\n",
              "      async function convertToInteractive(key) {\n",
              "        const element = document.querySelector('#df-d26407ac-a059-4954-9402-5747a0f5ef9b');\n",
              "        const dataTable =\n",
              "          await google.colab.kernel.invokeFunction('convertToInteractive',\n",
              "                                                    [key], {});\n",
              "        if (!dataTable) return;\n",
              "\n",
              "        const docLinkHtml = 'Like what you see? Visit the ' +\n",
              "          '<a target=\"_blank\" href=https://colab.research.google.com/notebooks/data_table.ipynb>data table notebook</a>'\n",
              "          + ' to learn more about interactive tables.';\n",
              "        element.innerHTML = '';\n",
              "        dataTable['output_type'] = 'display_data';\n",
              "        await google.colab.output.renderOutput(dataTable, element);\n",
              "        const docLink = document.createElement('div');\n",
              "        docLink.innerHTML = docLinkHtml;\n",
              "        element.appendChild(docLink);\n",
              "      }\n",
              "    </script>\n",
              "  </div>\n",
              "\n",
              "\n",
              "<div id=\"df-661d07c0-f267-4649-bcc3-5fbcf61ddff2\">\n",
              "  <button class=\"colab-df-quickchart\" onclick=\"quickchart('df-661d07c0-f267-4649-bcc3-5fbcf61ddff2')\"\n",
              "            title=\"Suggest charts\"\n",
              "            style=\"display:none;\">\n",
              "\n",
              "<svg xmlns=\"http://www.w3.org/2000/svg\" height=\"24px\"viewBox=\"0 0 24 24\"\n",
              "     width=\"24px\">\n",
              "    <g>\n",
              "        <path d=\"M19 3H5c-1.1 0-2 .9-2 2v14c0 1.1.9 2 2 2h14c1.1 0 2-.9 2-2V5c0-1.1-.9-2-2-2zM9 17H7v-7h2v7zm4 0h-2V7h2v10zm4 0h-2v-4h2v4z\"/>\n",
              "    </g>\n",
              "</svg>\n",
              "  </button>\n",
              "\n",
              "<style>\n",
              "  .colab-df-quickchart {\n",
              "      --bg-color: #E8F0FE;\n",
              "      --fill-color: #1967D2;\n",
              "      --hover-bg-color: #E2EBFA;\n",
              "      --hover-fill-color: #174EA6;\n",
              "      --disabled-fill-color: #AAA;\n",
              "      --disabled-bg-color: #DDD;\n",
              "  }\n",
              "\n",
              "  [theme=dark] .colab-df-quickchart {\n",
              "      --bg-color: #3B4455;\n",
              "      --fill-color: #D2E3FC;\n",
              "      --hover-bg-color: #434B5C;\n",
              "      --hover-fill-color: #FFFFFF;\n",
              "      --disabled-bg-color: #3B4455;\n",
              "      --disabled-fill-color: #666;\n",
              "  }\n",
              "\n",
              "  .colab-df-quickchart {\n",
              "    background-color: var(--bg-color);\n",
              "    border: none;\n",
              "    border-radius: 50%;\n",
              "    cursor: pointer;\n",
              "    display: none;\n",
              "    fill: var(--fill-color);\n",
              "    height: 32px;\n",
              "    padding: 0;\n",
              "    width: 32px;\n",
              "  }\n",
              "\n",
              "  .colab-df-quickchart:hover {\n",
              "    background-color: var(--hover-bg-color);\n",
              "    box-shadow: 0 1px 2px rgba(60, 64, 67, 0.3), 0 1px 3px 1px rgba(60, 64, 67, 0.15);\n",
              "    fill: var(--button-hover-fill-color);\n",
              "  }\n",
              "\n",
              "  .colab-df-quickchart-complete:disabled,\n",
              "  .colab-df-quickchart-complete:disabled:hover {\n",
              "    background-color: var(--disabled-bg-color);\n",
              "    fill: var(--disabled-fill-color);\n",
              "    box-shadow: none;\n",
              "  }\n",
              "\n",
              "  .colab-df-spinner {\n",
              "    border: 2px solid var(--fill-color);\n",
              "    border-color: transparent;\n",
              "    border-bottom-color: var(--fill-color);\n",
              "    animation:\n",
              "      spin 1s steps(1) infinite;\n",
              "  }\n",
              "\n",
              "  @keyframes spin {\n",
              "    0% {\n",
              "      border-color: transparent;\n",
              "      border-bottom-color: var(--fill-color);\n",
              "      border-left-color: var(--fill-color);\n",
              "    }\n",
              "    20% {\n",
              "      border-color: transparent;\n",
              "      border-left-color: var(--fill-color);\n",
              "      border-top-color: var(--fill-color);\n",
              "    }\n",
              "    30% {\n",
              "      border-color: transparent;\n",
              "      border-left-color: var(--fill-color);\n",
              "      border-top-color: var(--fill-color);\n",
              "      border-right-color: var(--fill-color);\n",
              "    }\n",
              "    40% {\n",
              "      border-color: transparent;\n",
              "      border-right-color: var(--fill-color);\n",
              "      border-top-color: var(--fill-color);\n",
              "    }\n",
              "    60% {\n",
              "      border-color: transparent;\n",
              "      border-right-color: var(--fill-color);\n",
              "    }\n",
              "    80% {\n",
              "      border-color: transparent;\n",
              "      border-right-color: var(--fill-color);\n",
              "      border-bottom-color: var(--fill-color);\n",
              "    }\n",
              "    90% {\n",
              "      border-color: transparent;\n",
              "      border-bottom-color: var(--fill-color);\n",
              "    }\n",
              "  }\n",
              "</style>\n",
              "\n",
              "  <script>\n",
              "    async function quickchart(key) {\n",
              "      const quickchartButtonEl =\n",
              "        document.querySelector('#' + key + ' button');\n",
              "      quickchartButtonEl.disabled = true;  // To prevent multiple clicks.\n",
              "      quickchartButtonEl.classList.add('colab-df-spinner');\n",
              "      try {\n",
              "        const charts = await google.colab.kernel.invokeFunction(\n",
              "            'suggestCharts', [key], {});\n",
              "      } catch (error) {\n",
              "        console.error('Error during call to suggestCharts:', error);\n",
              "      }\n",
              "      quickchartButtonEl.classList.remove('colab-df-spinner');\n",
              "      quickchartButtonEl.classList.add('colab-df-quickchart-complete');\n",
              "    }\n",
              "    (() => {\n",
              "      let quickchartButtonEl =\n",
              "        document.querySelector('#df-661d07c0-f267-4649-bcc3-5fbcf61ddff2 button');\n",
              "      quickchartButtonEl.style.display =\n",
              "        google.colab.kernel.accessAllowed ? 'block' : 'none';\n",
              "    })();\n",
              "  </script>\n",
              "</div>\n",
              "\n",
              "    </div>\n",
              "  </div>\n"
            ]
          },
          "metadata": {},
          "execution_count": 7
        }
      ]
    },
    {
      "cell_type": "code",
      "source": [
        "#Checking for null values in the data\n",
        "df.isnull().sum()"
      ],
      "metadata": {
        "colab": {
          "base_uri": "https://localhost:8080/"
        },
        "id": "U-jwD89YEArE",
        "outputId": "bcc550bb-e343-45ee-dae7-7e07d0aa1c9d"
      },
      "execution_count": 9,
      "outputs": [
        {
          "output_type": "execute_result",
          "data": {
            "text/plain": [
              "RowNumber          0\n",
              "CustomerId         0\n",
              "Surname            0\n",
              "CreditScore        0\n",
              "Geography          0\n",
              "Gender             0\n",
              "Age                0\n",
              "Tenure             0\n",
              "Balance            0\n",
              "NumOfProducts      0\n",
              "HasCrCard          0\n",
              "IsActiveMember     0\n",
              "EstimatedSalary    0\n",
              "Exited             0\n",
              "dtype: int64"
            ]
          },
          "metadata": {},
          "execution_count": 9
        }
      ]
    },
    {
      "cell_type": "code",
      "source": [
        "#Checking for imbalance\n",
        "df['Exited'].value_counts()"
      ],
      "metadata": {
        "colab": {
          "base_uri": "https://localhost:8080/"
        },
        "id": "RC-qa4-lFwlw",
        "outputId": "ab8df478-7c6b-49bc-b76c-898f8f53e8f7"
      },
      "execution_count": 16,
      "outputs": [
        {
          "output_type": "execute_result",
          "data": {
            "text/plain": [
              "0    7963\n",
              "1    2037\n",
              "Name: Exited, dtype: int64"
            ]
          },
          "metadata": {},
          "execution_count": 16
        }
      ]
    },
    {
      "cell_type": "code",
      "source": [
        "print(f'Model gives a {(7963/10000)*100}% accuracy if it guesses all 0')"
      ],
      "metadata": {
        "colab": {
          "base_uri": "https://localhost:8080/"
        },
        "id": "mlgE_ahmGFJw",
        "outputId": "e9f2f5d7-de44-45b8-c9c6-8f6bdb8c5bc7"
      },
      "execution_count": 19,
      "outputs": [
        {
          "output_type": "stream",
          "name": "stdout",
          "text": [
            "Model gives a 79.63% accuracy if it guesses all 0\n"
          ]
        }
      ]
    },
    {
      "cell_type": "code",
      "source": [
        "from sklearn.utils import resample\n",
        "majority_class = df[df['Exited'] == 0]\n",
        "minority_class = df[df['Exited'] == 1]\n",
        "minority_upsample = resample(minority_class, replace=True, n_samples=majority_class.shape[0], random_state=0)\n",
        "df = pd.concat([majority_class, minority_upsample])\n",
        "df['Exited'].value_counts()"
      ],
      "metadata": {
        "colab": {
          "base_uri": "https://localhost:8080/"
        },
        "id": "TbJmKLQqRSiZ",
        "outputId": "d2da5f5f-137a-4761-a391-b96088d072ce"
      },
      "execution_count": 36,
      "outputs": [
        {
          "output_type": "execute_result",
          "data": {
            "text/plain": [
              "0    7963\n",
              "1    7963\n",
              "Name: Exited, dtype: int64"
            ]
          },
          "metadata": {},
          "execution_count": 36
        }
      ]
    },
    {
      "cell_type": "code",
      "source": [
        "x = df.iloc[:, 3:-1].values\n",
        "y = df.iloc[:, -1].values"
      ],
      "metadata": {
        "id": "1pbbOArFSDwT"
      },
      "execution_count": 37,
      "outputs": []
    },
    {
      "cell_type": "markdown",
      "metadata": {
        "id": "N6bQ0UgSU-NJ"
      },
      "source": [
        "### Encoding categorical data"
      ]
    },
    {
      "cell_type": "markdown",
      "metadata": {
        "id": "le5MJreAbW52"
      },
      "source": [
        "Label Encoding the \"Gender\" column"
      ]
    },
    {
      "cell_type": "code",
      "source": [
        "from sklearn.preprocessing import LabelEncoder\n",
        "le = LabelEncoder()\n",
        "x[:, 2] = le.fit_transform(x[:, 2])"
      ],
      "metadata": {
        "id": "1cUEhtRKEElN"
      },
      "execution_count": 38,
      "outputs": []
    },
    {
      "cell_type": "markdown",
      "metadata": {
        "id": "CUxGZezpbMcb"
      },
      "source": [
        "One Hot Encoding the \"Geography\" column"
      ]
    },
    {
      "cell_type": "code",
      "source": [
        "from sklearn.preprocessing import OneHotEncoder\n",
        "from sklearn.compose import ColumnTransformer\n",
        "ct = ColumnTransformer(transformers=[('encoder', OneHotEncoder(), [1])], remainder='passthrough')\n",
        "x = np.array(ct.fit_transform(x))"
      ],
      "metadata": {
        "id": "mVqCXY_DEbZD"
      },
      "execution_count": 39,
      "outputs": []
    },
    {
      "cell_type": "markdown",
      "metadata": {
        "id": "vHol938cW8zd"
      },
      "source": [
        "### Splitting the dataset into the Training set and Test set"
      ]
    },
    {
      "cell_type": "code",
      "source": [
        "from sklearn.model_selection import train_test_split\n",
        "x_train, x_test, y_train, y_test = train_test_split(x, y, test_size= 0.2, random_state=0)"
      ],
      "metadata": {
        "id": "OnOgOGzfFKqp"
      },
      "execution_count": 40,
      "outputs": []
    },
    {
      "cell_type": "markdown",
      "metadata": {
        "id": "RE_FcHyfV3TQ"
      },
      "source": [
        "### Feature Scaling"
      ]
    },
    {
      "cell_type": "code",
      "source": [
        "from sklearn.preprocessing import StandardScaler\n",
        "sc = StandardScaler()\n",
        "x_train = sc.fit_transform(x_train)\n",
        "x_test = sc.transform(x_test)"
      ],
      "metadata": {
        "id": "pBAxw2nYFYbt"
      },
      "execution_count": 41,
      "outputs": []
    },
    {
      "cell_type": "markdown",
      "metadata": {
        "id": "-zfEzkRVXIwF"
      },
      "source": [
        "## Part 2 - Building the ANN"
      ]
    },
    {
      "cell_type": "markdown",
      "metadata": {
        "id": "KvdeScabXtlB"
      },
      "source": [
        "### Initializing the ANN"
      ]
    },
    {
      "cell_type": "code",
      "source": [
        "ann = tf.keras.models.Sequential()"
      ],
      "metadata": {
        "id": "aeMMLVwLG5jj"
      },
      "execution_count": 42,
      "outputs": []
    },
    {
      "cell_type": "markdown",
      "metadata": {
        "id": "rP6urV6SX7kS"
      },
      "source": [
        "### Adding the input layer and the first hidden layer"
      ]
    },
    {
      "cell_type": "code",
      "source": [
        "#This was made for experimentation with the first ANN, Can use a param grid to find ideal number of layers/neurons then ideal activation function\n",
        "ann.add(tf.keras.layers.Dense(units=6, activation='relu'))"
      ],
      "metadata": {
        "id": "AclIPhslHQKg"
      },
      "execution_count": 43,
      "outputs": []
    },
    {
      "cell_type": "markdown",
      "metadata": {
        "id": "BELWAc_8YJze"
      },
      "source": [
        "### Adding the second hidden layer"
      ]
    },
    {
      "cell_type": "code",
      "source": [
        "ann.add(tf.keras.layers.Dense(units=6, activation='relu'))"
      ],
      "metadata": {
        "id": "lSJAwcqtIUme"
      },
      "execution_count": 44,
      "outputs": []
    },
    {
      "cell_type": "markdown",
      "metadata": {
        "id": "OyNEe6RXYcU4"
      },
      "source": [
        "### Adding the output layer"
      ]
    },
    {
      "cell_type": "code",
      "source": [
        "#Since the output is binary you only need 1 node that either reads 'on' or 'off' which is either 0 or 1\n",
        "ann.add(tf.keras.layers.Dense(units=1, activation='sigmoid')) #sigmoid gives values between 0 and 1"
      ],
      "metadata": {
        "id": "tDUIcxyLIWaX"
      },
      "execution_count": 45,
      "outputs": []
    },
    {
      "cell_type": "markdown",
      "metadata": {
        "id": "JT4u2S1_Y4WG"
      },
      "source": [
        "## Part 3 - Training the ANN"
      ]
    },
    {
      "cell_type": "markdown",
      "metadata": {
        "id": "8GWlJChhY_ZI"
      },
      "source": [
        "### Compiling the ANN"
      ]
    },
    {
      "cell_type": "code",
      "source": [
        "ann.compile(optimizer = 'adam',\n",
        "            loss = 'binary_crossentropy',\n",
        "            metrics = ['accuracy']\n",
        ")"
      ],
      "metadata": {
        "id": "ndE4UYCMJCPU"
      },
      "execution_count": 46,
      "outputs": []
    },
    {
      "cell_type": "markdown",
      "metadata": {
        "id": "0QR_G5u7ZLSM"
      },
      "source": [
        "### Training the ANN on the Training set"
      ]
    },
    {
      "cell_type": "code",
      "source": [
        "ann.fit(x_train, y_train, batch_size = 32, epochs = 100)"
      ],
      "metadata": {
        "colab": {
          "base_uri": "https://localhost:8080/"
        },
        "id": "uRN3EVZOJ7CZ",
        "outputId": "667d263d-04e8-4d00-d52d-7e06d819976f"
      },
      "execution_count": 47,
      "outputs": [
        {
          "output_type": "stream",
          "name": "stdout",
          "text": [
            "Epoch 1/100\n",
            "399/399 [==============================] - 2s 3ms/step - loss: 0.6790 - accuracy: 0.5450\n",
            "Epoch 2/100\n",
            "399/399 [==============================] - 2s 5ms/step - loss: 0.6071 - accuracy: 0.6774\n",
            "Epoch 3/100\n",
            "399/399 [==============================] - 2s 6ms/step - loss: 0.5816 - accuracy: 0.7028\n",
            "Epoch 4/100\n",
            "399/399 [==============================] - 2s 5ms/step - loss: 0.5711 - accuracy: 0.7100\n",
            "Epoch 5/100\n",
            "399/399 [==============================] - 2s 4ms/step - loss: 0.5632 - accuracy: 0.7156\n",
            "Epoch 6/100\n",
            "399/399 [==============================] - 2s 4ms/step - loss: 0.5573 - accuracy: 0.7152\n",
            "Epoch 7/100\n",
            "399/399 [==============================] - 1s 2ms/step - loss: 0.5519 - accuracy: 0.7194\n",
            "Epoch 8/100\n",
            "399/399 [==============================] - 1s 2ms/step - loss: 0.5462 - accuracy: 0.7224\n",
            "Epoch 9/100\n",
            "399/399 [==============================] - 1s 2ms/step - loss: 0.5393 - accuracy: 0.7296\n",
            "Epoch 10/100\n",
            "399/399 [==============================] - 1s 2ms/step - loss: 0.5309 - accuracy: 0.7339\n",
            "Epoch 11/100\n",
            "399/399 [==============================] - 1s 2ms/step - loss: 0.5194 - accuracy: 0.7419\n",
            "Epoch 12/100\n",
            "399/399 [==============================] - 1s 2ms/step - loss: 0.5070 - accuracy: 0.7488\n",
            "Epoch 13/100\n",
            "399/399 [==============================] - 1s 2ms/step - loss: 0.4941 - accuracy: 0.7580\n",
            "Epoch 14/100\n",
            "399/399 [==============================] - 1s 2ms/step - loss: 0.4831 - accuracy: 0.7635\n",
            "Epoch 15/100\n",
            "399/399 [==============================] - 1s 3ms/step - loss: 0.4743 - accuracy: 0.7685\n",
            "Epoch 16/100\n",
            "399/399 [==============================] - 1s 3ms/step - loss: 0.4680 - accuracy: 0.7721\n",
            "Epoch 17/100\n",
            "399/399 [==============================] - 1s 2ms/step - loss: 0.4642 - accuracy: 0.7728\n",
            "Epoch 18/100\n",
            "399/399 [==============================] - 1s 2ms/step - loss: 0.4605 - accuracy: 0.7755\n",
            "Epoch 19/100\n",
            "399/399 [==============================] - 1s 2ms/step - loss: 0.4589 - accuracy: 0.7762\n",
            "Epoch 20/100\n",
            "399/399 [==============================] - 1s 2ms/step - loss: 0.4569 - accuracy: 0.7764\n",
            "Epoch 21/100\n",
            "399/399 [==============================] - 1s 2ms/step - loss: 0.4553 - accuracy: 0.7775\n",
            "Epoch 22/100\n",
            "399/399 [==============================] - 1s 2ms/step - loss: 0.4545 - accuracy: 0.7746\n",
            "Epoch 23/100\n",
            "399/399 [==============================] - 1s 2ms/step - loss: 0.4539 - accuracy: 0.7758\n",
            "Epoch 24/100\n",
            "399/399 [==============================] - 1s 2ms/step - loss: 0.4530 - accuracy: 0.7782\n",
            "Epoch 25/100\n",
            "399/399 [==============================] - 1s 2ms/step - loss: 0.4522 - accuracy: 0.7800\n",
            "Epoch 26/100\n",
            "399/399 [==============================] - 1s 2ms/step - loss: 0.4515 - accuracy: 0.7796\n",
            "Epoch 27/100\n",
            "399/399 [==============================] - 1s 2ms/step - loss: 0.4511 - accuracy: 0.7799\n",
            "Epoch 28/100\n",
            "399/399 [==============================] - 1s 2ms/step - loss: 0.4507 - accuracy: 0.7804\n",
            "Epoch 29/100\n",
            "399/399 [==============================] - 1s 2ms/step - loss: 0.4501 - accuracy: 0.7812\n",
            "Epoch 30/100\n",
            "399/399 [==============================] - 1s 3ms/step - loss: 0.4499 - accuracy: 0.7823\n",
            "Epoch 31/100\n",
            "399/399 [==============================] - 1s 3ms/step - loss: 0.4497 - accuracy: 0.7804\n",
            "Epoch 32/100\n",
            "399/399 [==============================] - 1s 2ms/step - loss: 0.4495 - accuracy: 0.7823\n",
            "Epoch 33/100\n",
            "399/399 [==============================] - 1s 2ms/step - loss: 0.4492 - accuracy: 0.7801\n",
            "Epoch 34/100\n",
            "399/399 [==============================] - 1s 2ms/step - loss: 0.4494 - accuracy: 0.7807\n",
            "Epoch 35/100\n",
            "399/399 [==============================] - 1s 2ms/step - loss: 0.4488 - accuracy: 0.7818\n",
            "Epoch 36/100\n",
            "399/399 [==============================] - 1s 2ms/step - loss: 0.4487 - accuracy: 0.7816\n",
            "Epoch 37/100\n",
            "399/399 [==============================] - 1s 2ms/step - loss: 0.4488 - accuracy: 0.7819\n",
            "Epoch 38/100\n",
            "399/399 [==============================] - 1s 2ms/step - loss: 0.4487 - accuracy: 0.7818\n",
            "Epoch 39/100\n",
            "399/399 [==============================] - 1s 2ms/step - loss: 0.4484 - accuracy: 0.7816\n",
            "Epoch 40/100\n",
            "399/399 [==============================] - 1s 2ms/step - loss: 0.4482 - accuracy: 0.7815\n",
            "Epoch 41/100\n",
            "399/399 [==============================] - 1s 2ms/step - loss: 0.4480 - accuracy: 0.7815\n",
            "Epoch 42/100\n",
            "399/399 [==============================] - 1s 2ms/step - loss: 0.4472 - accuracy: 0.7819\n",
            "Epoch 43/100\n",
            "399/399 [==============================] - 1s 2ms/step - loss: 0.4478 - accuracy: 0.7823\n",
            "Epoch 44/100\n",
            "399/399 [==============================] - 1s 3ms/step - loss: 0.4470 - accuracy: 0.7819\n",
            "Epoch 45/100\n",
            "399/399 [==============================] - 1s 3ms/step - loss: 0.4471 - accuracy: 0.7823\n",
            "Epoch 46/100\n",
            "399/399 [==============================] - 1s 2ms/step - loss: 0.4469 - accuracy: 0.7832\n",
            "Epoch 47/100\n",
            "399/399 [==============================] - 1s 2ms/step - loss: 0.4466 - accuracy: 0.7832\n",
            "Epoch 48/100\n",
            "399/399 [==============================] - 1s 2ms/step - loss: 0.4462 - accuracy: 0.7816\n",
            "Epoch 49/100\n",
            "399/399 [==============================] - 1s 2ms/step - loss: 0.4464 - accuracy: 0.7805\n",
            "Epoch 50/100\n",
            "399/399 [==============================] - 1s 2ms/step - loss: 0.4462 - accuracy: 0.7834\n",
            "Epoch 51/100\n",
            "399/399 [==============================] - 1s 2ms/step - loss: 0.4458 - accuracy: 0.7834\n",
            "Epoch 52/100\n",
            "399/399 [==============================] - 1s 2ms/step - loss: 0.4458 - accuracy: 0.7835\n",
            "Epoch 53/100\n",
            "399/399 [==============================] - 1s 2ms/step - loss: 0.4453 - accuracy: 0.7819\n",
            "Epoch 54/100\n",
            "399/399 [==============================] - 1s 2ms/step - loss: 0.4455 - accuracy: 0.7834\n",
            "Epoch 55/100\n",
            "399/399 [==============================] - 1s 2ms/step - loss: 0.4451 - accuracy: 0.7842\n",
            "Epoch 56/100\n",
            "399/399 [==============================] - 1s 2ms/step - loss: 0.4453 - accuracy: 0.7843\n",
            "Epoch 57/100\n",
            "399/399 [==============================] - 1s 2ms/step - loss: 0.4450 - accuracy: 0.7843\n",
            "Epoch 58/100\n",
            "399/399 [==============================] - 1s 2ms/step - loss: 0.4450 - accuracy: 0.7830\n",
            "Epoch 59/100\n",
            "399/399 [==============================] - 1s 3ms/step - loss: 0.4447 - accuracy: 0.7841\n",
            "Epoch 60/100\n",
            "399/399 [==============================] - 1s 3ms/step - loss: 0.4448 - accuracy: 0.7829\n",
            "Epoch 61/100\n",
            "399/399 [==============================] - 1s 2ms/step - loss: 0.4445 - accuracy: 0.7846\n",
            "Epoch 62/100\n",
            "399/399 [==============================] - 1s 2ms/step - loss: 0.4446 - accuracy: 0.7834\n",
            "Epoch 63/100\n",
            "399/399 [==============================] - 1s 2ms/step - loss: 0.4442 - accuracy: 0.7834\n",
            "Epoch 64/100\n",
            "399/399 [==============================] - 1s 2ms/step - loss: 0.4444 - accuracy: 0.7826\n",
            "Epoch 65/100\n",
            "399/399 [==============================] - 1s 2ms/step - loss: 0.4444 - accuracy: 0.7832\n",
            "Epoch 66/100\n",
            "399/399 [==============================] - 1s 2ms/step - loss: 0.4439 - accuracy: 0.7838\n",
            "Epoch 67/100\n",
            "399/399 [==============================] - 1s 2ms/step - loss: 0.4443 - accuracy: 0.7845\n",
            "Epoch 68/100\n",
            "399/399 [==============================] - 1s 2ms/step - loss: 0.4440 - accuracy: 0.7834\n",
            "Epoch 69/100\n",
            "399/399 [==============================] - 1s 2ms/step - loss: 0.4440 - accuracy: 0.7824\n",
            "Epoch 70/100\n",
            "399/399 [==============================] - 1s 3ms/step - loss: 0.4440 - accuracy: 0.7834\n",
            "Epoch 71/100\n",
            "399/399 [==============================] - 1s 3ms/step - loss: 0.4442 - accuracy: 0.7844\n",
            "Epoch 72/100\n",
            "399/399 [==============================] - 1s 4ms/step - loss: 0.4436 - accuracy: 0.7843\n",
            "Epoch 73/100\n",
            "399/399 [==============================] - 1s 3ms/step - loss: 0.4436 - accuracy: 0.7845\n",
            "Epoch 74/100\n",
            "399/399 [==============================] - 1s 3ms/step - loss: 0.4433 - accuracy: 0.7856\n",
            "Epoch 75/100\n",
            "399/399 [==============================] - 1s 2ms/step - loss: 0.4435 - accuracy: 0.7840\n",
            "Epoch 76/100\n",
            "399/399 [==============================] - 1s 2ms/step - loss: 0.4436 - accuracy: 0.7811\n",
            "Epoch 77/100\n",
            "399/399 [==============================] - 1s 2ms/step - loss: 0.4435 - accuracy: 0.7845\n",
            "Epoch 78/100\n",
            "399/399 [==============================] - 1s 2ms/step - loss: 0.4436 - accuracy: 0.7852\n",
            "Epoch 79/100\n",
            "399/399 [==============================] - 1s 2ms/step - loss: 0.4430 - accuracy: 0.7851\n",
            "Epoch 80/100\n",
            "399/399 [==============================] - 1s 2ms/step - loss: 0.4431 - accuracy: 0.7880\n",
            "Epoch 81/100\n",
            "399/399 [==============================] - 1s 2ms/step - loss: 0.4434 - accuracy: 0.7847\n",
            "Epoch 82/100\n",
            "399/399 [==============================] - 1s 2ms/step - loss: 0.4430 - accuracy: 0.7838\n",
            "Epoch 83/100\n",
            "399/399 [==============================] - 1s 2ms/step - loss: 0.4433 - accuracy: 0.7852\n",
            "Epoch 84/100\n",
            "399/399 [==============================] - 1s 2ms/step - loss: 0.4433 - accuracy: 0.7856\n",
            "Epoch 85/100\n",
            "399/399 [==============================] - 1s 2ms/step - loss: 0.4429 - accuracy: 0.7852\n",
            "Epoch 86/100\n",
            "399/399 [==============================] - 1s 2ms/step - loss: 0.4429 - accuracy: 0.7864\n",
            "Epoch 87/100\n",
            "399/399 [==============================] - 1s 3ms/step - loss: 0.4427 - accuracy: 0.7847\n",
            "Epoch 88/100\n",
            "399/399 [==============================] - 1s 3ms/step - loss: 0.4427 - accuracy: 0.7845\n",
            "Epoch 89/100\n",
            "399/399 [==============================] - 1s 2ms/step - loss: 0.4427 - accuracy: 0.7852\n",
            "Epoch 90/100\n",
            "399/399 [==============================] - 1s 2ms/step - loss: 0.4429 - accuracy: 0.7834\n",
            "Epoch 91/100\n",
            "399/399 [==============================] - 1s 2ms/step - loss: 0.4429 - accuracy: 0.7863\n",
            "Epoch 92/100\n",
            "399/399 [==============================] - 1s 2ms/step - loss: 0.4425 - accuracy: 0.7863\n",
            "Epoch 93/100\n",
            "399/399 [==============================] - 1s 2ms/step - loss: 0.4425 - accuracy: 0.7854\n",
            "Epoch 94/100\n",
            "399/399 [==============================] - 1s 2ms/step - loss: 0.4424 - accuracy: 0.7843\n",
            "Epoch 95/100\n",
            "399/399 [==============================] - 1s 2ms/step - loss: 0.4428 - accuracy: 0.7849\n",
            "Epoch 96/100\n",
            "399/399 [==============================] - 1s 2ms/step - loss: 0.4421 - accuracy: 0.7847\n",
            "Epoch 97/100\n",
            "399/399 [==============================] - 1s 2ms/step - loss: 0.4423 - accuracy: 0.7834\n",
            "Epoch 98/100\n",
            "399/399 [==============================] - 1s 2ms/step - loss: 0.4420 - accuracy: 0.7862\n",
            "Epoch 99/100\n",
            "399/399 [==============================] - 1s 2ms/step - loss: 0.4422 - accuracy: 0.7845\n",
            "Epoch 100/100\n",
            "399/399 [==============================] - 1s 2ms/step - loss: 0.4424 - accuracy: 0.7863\n"
          ]
        },
        {
          "output_type": "execute_result",
          "data": {
            "text/plain": [
              "<keras.src.callbacks.History at 0x7ce90e0e35b0>"
            ]
          },
          "metadata": {},
          "execution_count": 47
        }
      ]
    },
    {
      "cell_type": "markdown",
      "metadata": {
        "id": "tJj5k2MxZga3"
      },
      "source": [
        "## Part 4 - Making the predictions and evaluating the model"
      ]
    },
    {
      "cell_type": "markdown",
      "metadata": {
        "id": "84QFoqGYeXHL"
      },
      "source": [
        "### Predicting the result of a single observation"
      ]
    },
    {
      "cell_type": "markdown",
      "metadata": {
        "id": "CGRo3eacgDdC"
      },
      "source": [
        "**Homework**\n",
        "\n",
        "Use our ANN model to predict if the customer with the following informations will leave the bank:\n",
        "\n",
        "Geography: France\n",
        "\n",
        "Credit Score: 600\n",
        "\n",
        "Gender: Male\n",
        "\n",
        "Age: 40 years old\n",
        "\n",
        "Tenure: 3 years\n",
        "\n",
        "Balance: \\$ 60000\n",
        "\n",
        "Number of Products: 2\n",
        "\n",
        "Does this customer have a credit card? Yes\n",
        "\n",
        "Is this customer an Active Member: Yes\n",
        "\n",
        "Estimated Salary: \\$ 50000\n",
        "\n",
        "So, should we say goodbye to that customer?"
      ]
    },
    {
      "cell_type": "markdown",
      "metadata": {
        "id": "ZhU1LTgPg-kH"
      },
      "source": [
        "**Solution**"
      ]
    },
    {
      "cell_type": "code",
      "source": [
        "print(ann.predict(sc.transform([[1.0, 0.0, 0.0, 600, 1, 40, 3, 60000, 2, 1, 1, 50000]])) > 0.5)"
      ],
      "metadata": {
        "colab": {
          "base_uri": "https://localhost:8080/"
        },
        "id": "oLNaKV1LOKNP",
        "outputId": "bb0042ee-9b1b-44a6-e16b-66ff17a4c317"
      },
      "execution_count": 48,
      "outputs": [
        {
          "output_type": "stream",
          "name": "stdout",
          "text": [
            "1/1 [==============================] - 0s 59ms/step\n",
            "[[False]]\n"
          ]
        }
      ]
    },
    {
      "cell_type": "markdown",
      "metadata": {
        "id": "wGjx94g2n7OV"
      },
      "source": [
        "Therefore, our ANN model predicts that this customer stays in the bank!\n",
        "\n",
        "**Important note 1:** Notice that the values of the features were all input in a double pair of square brackets. That's because the \"predict\" method always expects a 2D array as the format of its inputs. And putting our values into a double pair of square brackets makes the input exactly a 2D array.\n",
        "\n",
        "**Important note 2:** Notice also that the \"France\" country was not input as a string in the last column but as \"1, 0, 0\" in the first three columns. That's because of course the predict method expects the one-hot-encoded values of the state, and as we see in the first row of the matrix of features X, \"France\" was encoded as \"1, 0, 0\". And be careful to include these values in the first three columns, because the dummy variables are always created in the first columns."
      ]
    },
    {
      "cell_type": "markdown",
      "metadata": {
        "id": "u7yx47jPZt11"
      },
      "source": [
        "### Predicting the Test set results"
      ]
    },
    {
      "cell_type": "code",
      "source": [
        "y_pred = ann.predict(x_test)\n",
        "#This will give percentages so we need to set up for binary:\n",
        "y_pred = (y_pred > 0.5)"
      ],
      "metadata": {
        "colab": {
          "base_uri": "https://localhost:8080/"
        },
        "id": "joyYaXetPoX2",
        "outputId": "c81f22b0-8912-4f0f-ab05-ea3834238bb1"
      },
      "execution_count": 49,
      "outputs": [
        {
          "output_type": "stream",
          "name": "stdout",
          "text": [
            "100/100 [==============================] - 0s 1ms/step\n"
          ]
        }
      ]
    },
    {
      "cell_type": "markdown",
      "metadata": {
        "id": "o0oyfLWoaEGw"
      },
      "source": [
        "### Making the Confusion Matrix"
      ]
    },
    {
      "cell_type": "code",
      "source": [
        "from sklearn.metrics import confusion_matrix, accuracy_score, classification_report\n",
        "cm = confusion_matrix(y_test, y_pred)\n",
        "print(cm)\n",
        "accuracy_score(y_test, y_pred)"
      ],
      "metadata": {
        "colab": {
          "base_uri": "https://localhost:8080/"
        },
        "id": "1VN6Bs7pQR0K",
        "outputId": "b2a548c7-be8c-4a1c-b9ca-681602762196"
      },
      "execution_count": 50,
      "outputs": [
        {
          "output_type": "stream",
          "name": "stdout",
          "text": [
            "[[1292  286]\n",
            " [ 423 1185]]\n"
          ]
        },
        {
          "output_type": "execute_result",
          "data": {
            "text/plain": [
              "0.7774639045825487"
            ]
          },
          "metadata": {},
          "execution_count": 50
        }
      ]
    },
    {
      "cell_type": "code",
      "source": [
        "print(classification_report(y_test, y_pred))"
      ],
      "metadata": {
        "colab": {
          "base_uri": "https://localhost:8080/"
        },
        "id": "3mPnd0BEQk_g",
        "outputId": "843a2613-79de-47eb-8703-bd366cbc4f9c"
      },
      "execution_count": 51,
      "outputs": [
        {
          "output_type": "stream",
          "name": "stdout",
          "text": [
            "              precision    recall  f1-score   support\n",
            "\n",
            "           0       0.75      0.82      0.78      1578\n",
            "           1       0.81      0.74      0.77      1608\n",
            "\n",
            "    accuracy                           0.78      3186\n",
            "   macro avg       0.78      0.78      0.78      3186\n",
            "weighted avg       0.78      0.78      0.78      3186\n",
            "\n"
          ]
        }
      ]
    }
  ]
}