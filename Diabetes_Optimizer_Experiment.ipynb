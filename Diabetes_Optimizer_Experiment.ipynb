{
 "cells": [
  {
   "cell_type": "markdown",
   "id": "5b5f6916",
   "metadata": {},
   "source": [
    "Optimizer Experimentation with the diabetes dataset from sklearn"
   ]
  },
  {
   "cell_type": "code",
   "execution_count": 1,
   "id": "caa4ee49",
   "metadata": {},
   "outputs": [],
   "source": [
    "# Import necessary libraries/modules\n",
    "from sklearn.datasets import load_diabetes  # Import the load_diabetes function from sklearn.datasets\n",
    "import tensorflow as tf\n",
    "import tensorflow.keras as keras\n",
    "from sklearn.model_selection import train_test_split\n",
    "from sklearn.preprocessing import StandardScaler  # Import the StandardScaler class from sklearn.preprocessing\n",
    "\n",
    "# Load the diabetes dataset using the load_diabetes function from sklearn.datasets\n",
    "df = load_diabetes()\n",
    "X = df.data\n",
    "y = df.target"
   ]
  },
  {
   "cell_type": "code",
   "execution_count": 3,
   "id": "0b281d79",
   "metadata": {},
   "outputs": [],
   "source": [
    "x_train, x_test, y_train, y_test = train_test_split(X, y, test_size=0.2, random_state=42)\n",
    "sc = StandardScaler()\n",
    "x_train = sc.fit_transform(x_train)\n",
    "x_test = sc.transform(x_test)"
   ]
  },
  {
   "cell_type": "code",
   "execution_count": 4,
   "id": "92c24183",
   "metadata": {},
   "outputs": [],
   "source": [
    "def build_model(optimizer):\n",
    "    model = keras.Sequential([\n",
    "        keras.layers.Dense(units=64,activation='relu'),\n",
    "        keras.layers.Dense(units=32, activation='relu'),\n",
    "        keras.layers.Dense(units=1)\n",
    "    ])\n",
    "    \n",
    "    # Compile the model with mean squared error (MSE) loss and the specified optimizer\n",
    "    model.compile(loss='mse', optimizer=optimizer, metrics=['mae'])\n",
    "    return model"
   ]
  },
  {
   "cell_type": "code",
   "execution_count": 5,
   "id": "98ef118b",
   "metadata": {},
   "outputs": [],
   "source": [
    "# Build and train a model with RMSprop optimizer\n",
    "model_rmsprop = build_model(optimizer='rmsprop')\n",
    "history_rmsprop = model_rmsprop.fit(x_train, y_train, epochs=100, validation_split=0.1, verbose=0)"
   ]
  },
  {
   "cell_type": "code",
   "execution_count": 6,
   "id": "c16f4eb1",
   "metadata": {},
   "outputs": [],
   "source": [
    "# Build and train a model with Adadelta optimizer\n",
    "model_adadelta = build_model(optimizer='adadelta')\n",
    "history_adadelta = model_adadelta.fit(x_train, y_train, epochs=100, validation_split=0.1, verbose=0)"
   ]
  },
  {
   "cell_type": "code",
   "execution_count": 7,
   "id": "08db59b0",
   "metadata": {},
   "outputs": [],
   "source": [
    "# Build and train a model with Adadelta optimizer\n",
    "model_adam = build_model(optimizer='adam')\n",
    "history_adam = model_adam.fit(x_train, y_train, epochs=100, validation_split=0.1, verbose=0)"
   ]
  },
  {
   "cell_type": "code",
   "execution_count": 8,
   "id": "a9eea8ed",
   "metadata": {},
   "outputs": [
    {
     "name": "stdout",
     "output_type": "stream",
     "text": [
      "RMSProp Mean Squared Error: 2889.3515625\n",
      "RMSProp Mean Absolute Error: 43.06727600097656\n",
      "\n",
      "Adadelta Mean Squared Error: 26478.45703125\n",
      "Adadelta Mean Absolute Error: 145.60153198242188\n",
      "\n",
      "Adam Mean Squared Error: 2830.593017578125\n",
      "Adam Mean Absolute Error: 42.9925651550293\n"
     ]
    }
   ],
   "source": [
    "# Evaluate the RMSprop model on the testing data and retrieve MSE and MAE\n",
    "mse_rmsprop, mae_rmsprop = model_rmsprop.evaluate(x_test, y_test, verbose=0)\n",
    "\n",
    "# Evaluate the Adadelta model on the testing data and retrieve MSE and MAE\n",
    "mse_adadelta, mae_adadelta = model_adadelta.evaluate(x_test, y_test, verbose=0)\n",
    "\n",
    "# Evaluate the Adam model on the testing data and retrieve MSE and MAE\n",
    "mse_adam, mae_adam = model_adam.evaluate(x_test, y_test, verbose=0)\n",
    "\n",
    "# Print the MSE and MAE for both models\n",
    "print(f'RMSProp Mean Squared Error: {mse_rmsprop}')\n",
    "print(f'RMSProp Mean Absolute Error: {mae_rmsprop}')\n",
    "\n",
    "print(f'\\nAdadelta Mean Squared Error: {mse_adadelta}')\n",
    "print(f'Adadelta Mean Absolute Error: {mae_adadelta}')\n",
    "\n",
    "print(f'\\nAdam Mean Squared Error: {mse_adam}')\n",
    "print(f'Adam Mean Absolute Error: {mae_adam}')"
   ]
  }
 ],
 "metadata": {
  "kernelspec": {
   "display_name": "Python 3 (ipykernel)",
   "language": "python",
   "name": "python3"
  },
  "language_info": {
   "codemirror_mode": {
    "name": "ipython",
    "version": 3
   },
   "file_extension": ".py",
   "mimetype": "text/x-python",
   "name": "python",
   "nbconvert_exporter": "python",
   "pygments_lexer": "ipython3",
   "version": "3.11.8"
  }
 },
 "nbformat": 4,
 "nbformat_minor": 5
}
